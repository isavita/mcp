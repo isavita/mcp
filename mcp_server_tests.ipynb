{
 "cells": [
  {
   "cell_type": "code",
   "execution_count": 3,
   "id": "4040dfba-d2ee-4abb-948d-7288e302b9f3",
   "metadata": {},
   "outputs": [
    {
     "name": "stdout",
     "output_type": "stream",
     "text": [
      "Requirement already satisfied: google-adk in /Users/dimova01/.pyenv/versions/3.11.9/lib/python3.11/site-packages (0.1.0)\n",
      "Requirement already satisfied: authlib>=1.5.1 in /Users/dimova01/.pyenv/versions/3.11.9/lib/python3.11/site-packages (from google-adk) (1.5.2)\n",
      "Requirement already satisfied: click>=8.1.8 in /Users/dimova01/.pyenv/versions/3.11.9/lib/python3.11/site-packages (from google-adk) (8.1.8)\n",
      "Requirement already satisfied: fastapi>=0.115.0 in /Users/dimova01/.pyenv/versions/3.11.9/lib/python3.11/site-packages (from google-adk) (0.115.6)\n",
      "Requirement already satisfied: google-api-python-client>=2.157.0 in /Users/dimova01/.pyenv/versions/3.11.9/lib/python3.11/site-packages (from google-adk) (2.166.0)\n",
      "Requirement already satisfied: google-cloud-aiplatform>=1.87.0 in /Users/dimova01/.pyenv/versions/3.11.9/lib/python3.11/site-packages (from google-adk) (1.88.0)\n",
      "Requirement already satisfied: google-cloud-secret-manager>=2.22.0 in /Users/dimova01/.pyenv/versions/3.11.9/lib/python3.11/site-packages (from google-adk) (2.23.2)\n",
      "Requirement already satisfied: google-cloud-speech>=2.30.0 in /Users/dimova01/.pyenv/versions/3.11.9/lib/python3.11/site-packages (from google-adk) (2.31.1)\n",
      "Requirement already satisfied: google-cloud-storage<3.0.0,>=2.18.0 in /Users/dimova01/.pyenv/versions/3.11.9/lib/python3.11/site-packages (from google-adk) (2.19.0)\n",
      "Requirement already satisfied: google-genai>=1.9.0 in /Users/dimova01/.pyenv/versions/3.11.9/lib/python3.11/site-packages (from google-adk) (1.10.0)\n",
      "Requirement already satisfied: graphviz>=0.20.2 in /Users/dimova01/.pyenv/versions/3.11.9/lib/python3.11/site-packages (from google-adk) (0.20.3)\n",
      "Requirement already satisfied: mcp>=1.5.0 in /Users/dimova01/.pyenv/versions/3.11.9/lib/python3.11/site-packages (from google-adk) (1.6.0)\n",
      "Requirement already satisfied: opentelemetry-api>=1.31.0 in /Users/dimova01/.pyenv/versions/3.11.9/lib/python3.11/site-packages (from google-adk) (1.32.0)\n",
      "Requirement already satisfied: opentelemetry-exporter-gcp-trace>=1.9.0 in /Users/dimova01/.pyenv/versions/3.11.9/lib/python3.11/site-packages (from google-adk) (1.9.0)\n",
      "Requirement already satisfied: opentelemetry-sdk>=1.31.0 in /Users/dimova01/.pyenv/versions/3.11.9/lib/python3.11/site-packages (from google-adk) (1.32.0)\n",
      "Requirement already satisfied: pydantic<3.0.0,>=2.0 in /Users/dimova01/.pyenv/versions/3.11.9/lib/python3.11/site-packages (from google-adk) (2.10.3)\n",
      "Requirement already satisfied: python-dotenv>=1.0.0 in /Users/dimova01/.pyenv/versions/3.11.9/lib/python3.11/site-packages (from google-adk) (1.0.1)\n",
      "Requirement already satisfied: PyYAML>=6.0.2 in /Users/dimova01/.pyenv/versions/3.11.9/lib/python3.11/site-packages (from google-adk) (6.0.2)\n",
      "Requirement already satisfied: sqlalchemy>=2.0 in /Users/dimova01/.pyenv/versions/3.11.9/lib/python3.11/site-packages (from google-adk) (2.0.35)\n",
      "Requirement already satisfied: tzlocal>=5.3 in /Users/dimova01/.pyenv/versions/3.11.9/lib/python3.11/site-packages (from google-adk) (5.3.1)\n",
      "Requirement already satisfied: uvicorn>=0.34.0 in /Users/dimova01/.pyenv/versions/3.11.9/lib/python3.11/site-packages (from google-adk) (0.34.0)\n",
      "Requirement already satisfied: cryptography in /Users/dimova01/.pyenv/versions/3.11.9/lib/python3.11/site-packages (from authlib>=1.5.1->google-adk) (42.0.8)\n",
      "Requirement already satisfied: starlette<0.42.0,>=0.40.0 in /Users/dimova01/.pyenv/versions/3.11.9/lib/python3.11/site-packages (from fastapi>=0.115.0->google-adk) (0.41.3)\n",
      "Requirement already satisfied: typing-extensions>=4.8.0 in /Users/dimova01/.pyenv/versions/3.11.9/lib/python3.11/site-packages (from fastapi>=0.115.0->google-adk) (4.12.2)\n",
      "Requirement already satisfied: httplib2<1.0.0,>=0.19.0 in /Users/dimova01/.pyenv/versions/3.11.9/lib/python3.11/site-packages (from google-api-python-client>=2.157.0->google-adk) (0.22.0)\n",
      "Requirement already satisfied: google-auth!=2.24.0,!=2.25.0,<3.0.0,>=1.32.0 in /Users/dimova01/.pyenv/versions/3.11.9/lib/python3.11/site-packages (from google-api-python-client>=2.157.0->google-adk) (2.34.0)\n",
      "Requirement already satisfied: google-auth-httplib2<1.0.0,>=0.2.0 in /Users/dimova01/.pyenv/versions/3.11.9/lib/python3.11/site-packages (from google-api-python-client>=2.157.0->google-adk) (0.2.0)\n",
      "Requirement already satisfied: google-api-core!=2.0.*,!=2.1.*,!=2.2.*,!=2.3.0,<3.0.0,>=1.31.5 in /Users/dimova01/.pyenv/versions/3.11.9/lib/python3.11/site-packages (from google-api-python-client>=2.157.0->google-adk) (2.24.2)\n",
      "Requirement already satisfied: uritemplate<5,>=3.0.1 in /Users/dimova01/.pyenv/versions/3.11.9/lib/python3.11/site-packages (from google-api-python-client>=2.157.0->google-adk) (4.1.1)\n",
      "Requirement already satisfied: proto-plus<2.0.0,>=1.22.3 in /Users/dimova01/.pyenv/versions/3.11.9/lib/python3.11/site-packages (from google-cloud-aiplatform>=1.87.0->google-adk) (1.26.1)\n",
      "Requirement already satisfied: protobuf!=4.21.0,!=4.21.1,!=4.21.2,!=4.21.3,!=4.21.4,!=4.21.5,<6.0.0,>=3.20.2 in /Users/dimova01/.pyenv/versions/3.11.9/lib/python3.11/site-packages (from google-cloud-aiplatform>=1.87.0->google-adk) (5.29.4)\n",
      "Requirement already satisfied: packaging>=14.3 in /Users/dimova01/.pyenv/versions/3.11.9/lib/python3.11/site-packages (from google-cloud-aiplatform>=1.87.0->google-adk) (24.2)\n",
      "Requirement already satisfied: google-cloud-bigquery!=3.20.0,<4.0.0,>=1.15.0 in /Users/dimova01/.pyenv/versions/3.11.9/lib/python3.11/site-packages (from google-cloud-aiplatform>=1.87.0->google-adk) (3.31.0)\n",
      "Requirement already satisfied: google-cloud-resource-manager<3.0.0,>=1.3.3 in /Users/dimova01/.pyenv/versions/3.11.9/lib/python3.11/site-packages (from google-cloud-aiplatform>=1.87.0->google-adk) (1.14.2)\n",
      "Requirement already satisfied: shapely<3.0.0 in /Users/dimova01/.pyenv/versions/3.11.9/lib/python3.11/site-packages (from google-cloud-aiplatform>=1.87.0->google-adk) (2.0.6)\n",
      "Requirement already satisfied: docstring-parser<1 in /Users/dimova01/.pyenv/versions/3.11.9/lib/python3.11/site-packages (from google-cloud-aiplatform>=1.87.0->google-adk) (0.16)\n",
      "Requirement already satisfied: grpc-google-iam-v1<1.0.0,>=0.14.0 in /Users/dimova01/.pyenv/versions/3.11.9/lib/python3.11/site-packages (from google-cloud-secret-manager>=2.22.0->google-adk) (0.14.2)\n",
      "Requirement already satisfied: google-cloud-core<3.0dev,>=2.3.0 in /Users/dimova01/.pyenv/versions/3.11.9/lib/python3.11/site-packages (from google-cloud-storage<3.0.0,>=2.18.0->google-adk) (2.4.3)\n",
      "Requirement already satisfied: google-resumable-media>=2.7.2 in /Users/dimova01/.pyenv/versions/3.11.9/lib/python3.11/site-packages (from google-cloud-storage<3.0.0,>=2.18.0->google-adk) (2.7.2)\n",
      "Requirement already satisfied: requests<3.0.0dev,>=2.18.0 in /Users/dimova01/.pyenv/versions/3.11.9/lib/python3.11/site-packages (from google-cloud-storage<3.0.0,>=2.18.0->google-adk) (2.32.3)\n",
      "Requirement already satisfied: google-crc32c<2.0dev,>=1.0 in /Users/dimova01/.pyenv/versions/3.11.9/lib/python3.11/site-packages (from google-cloud-storage<3.0.0,>=2.18.0->google-adk) (1.7.1)\n",
      "Requirement already satisfied: anyio<5.0.0,>=4.8.0 in /Users/dimova01/.pyenv/versions/3.11.9/lib/python3.11/site-packages (from google-genai>=1.9.0->google-adk) (4.9.0)\n",
      "Requirement already satisfied: httpx<1.0.0,>=0.28.1 in /Users/dimova01/.pyenv/versions/3.11.9/lib/python3.11/site-packages (from google-genai>=1.9.0->google-adk) (0.28.1)\n",
      "Requirement already satisfied: websockets<15.1.0,>=13.0.0 in /Users/dimova01/.pyenv/versions/3.11.9/lib/python3.11/site-packages (from google-genai>=1.9.0->google-adk) (13.0.1)\n",
      "Requirement already satisfied: httpx-sse>=0.4 in /Users/dimova01/.pyenv/versions/3.11.9/lib/python3.11/site-packages (from mcp>=1.5.0->google-adk) (0.4.0)\n",
      "Requirement already satisfied: pydantic-settings>=2.5.2 in /Users/dimova01/.pyenv/versions/3.11.9/lib/python3.11/site-packages (from mcp>=1.5.0->google-adk) (2.8.1)\n",
      "Requirement already satisfied: sse-starlette>=1.6.1 in /Users/dimova01/.pyenv/versions/3.11.9/lib/python3.11/site-packages (from mcp>=1.5.0->google-adk) (2.2.1)\n",
      "Requirement already satisfied: deprecated>=1.2.6 in /Users/dimova01/.pyenv/versions/3.11.9/lib/python3.11/site-packages (from opentelemetry-api>=1.31.0->google-adk) (1.2.14)\n",
      "Requirement already satisfied: importlib-metadata<8.7.0,>=6.0 in /Users/dimova01/.pyenv/versions/3.11.9/lib/python3.11/site-packages (from opentelemetry-api>=1.31.0->google-adk) (7.2.1)\n",
      "Requirement already satisfied: google-cloud-trace~=1.1 in /Users/dimova01/.pyenv/versions/3.11.9/lib/python3.11/site-packages (from opentelemetry-exporter-gcp-trace>=1.9.0->google-adk) (1.16.1)\n",
      "Requirement already satisfied: opentelemetry-resourcedetector-gcp==1.*,>=1.5.0dev0 in /Users/dimova01/.pyenv/versions/3.11.9/lib/python3.11/site-packages (from opentelemetry-exporter-gcp-trace>=1.9.0->google-adk) (1.9.0a0)\n",
      "Requirement already satisfied: opentelemetry-semantic-conventions==0.53b0 in /Users/dimova01/.pyenv/versions/3.11.9/lib/python3.11/site-packages (from opentelemetry-sdk>=1.31.0->google-adk) (0.53b0)\n",
      "Requirement already satisfied: annotated-types>=0.6.0 in /Users/dimova01/.pyenv/versions/3.11.9/lib/python3.11/site-packages (from pydantic<3.0.0,>=2.0->google-adk) (0.7.0)\n",
      "Requirement already satisfied: pydantic-core==2.27.1 in /Users/dimova01/.pyenv/versions/3.11.9/lib/python3.11/site-packages (from pydantic<3.0.0,>=2.0->google-adk) (2.27.1)\n",
      "Requirement already satisfied: h11>=0.8 in /Users/dimova01/.pyenv/versions/3.11.9/lib/python3.11/site-packages (from uvicorn>=0.34.0->google-adk) (0.14.0)\n",
      "Requirement already satisfied: idna>=2.8 in /Users/dimova01/.pyenv/versions/3.11.9/lib/python3.11/site-packages (from anyio<5.0.0,>=4.8.0->google-genai>=1.9.0->google-adk) (3.7)\n",
      "Requirement already satisfied: sniffio>=1.1 in /Users/dimova01/.pyenv/versions/3.11.9/lib/python3.11/site-packages (from anyio<5.0.0,>=4.8.0->google-genai>=1.9.0->google-adk) (1.3.1)\n",
      "Requirement already satisfied: wrapt<2,>=1.10 in /Users/dimova01/.pyenv/versions/3.11.9/lib/python3.11/site-packages (from deprecated>=1.2.6->opentelemetry-api>=1.31.0->google-adk) (1.16.0)\n",
      "Requirement already satisfied: googleapis-common-protos<2.0.0,>=1.56.2 in /Users/dimova01/.pyenv/versions/3.11.9/lib/python3.11/site-packages (from google-api-core!=2.0.*,!=2.1.*,!=2.2.*,!=2.3.0,<3.0.0,>=1.31.5->google-api-python-client>=2.157.0->google-adk) (1.65.0)\n",
      "Requirement already satisfied: grpcio<2.0dev,>=1.33.2 in /Users/dimova01/.pyenv/versions/3.11.9/lib/python3.11/site-packages (from google-api-core[grpc]!=2.0.*,!=2.1.*,!=2.2.*,!=2.3.*,!=2.4.*,!=2.5.*,!=2.6.*,!=2.7.*,<3.0.0,>=1.34.1->google-cloud-aiplatform>=1.87.0->google-adk) (1.72.0rc1)\n",
      "Requirement already satisfied: grpcio-status<2.0.dev0,>=1.33.2 in /Users/dimova01/.pyenv/versions/3.11.9/lib/python3.11/site-packages (from google-api-core[grpc]!=2.0.*,!=2.1.*,!=2.2.*,!=2.3.*,!=2.4.*,!=2.5.*,!=2.6.*,!=2.7.*,<3.0.0,>=1.34.1->google-cloud-aiplatform>=1.87.0->google-adk) (1.71.0)\n",
      "Requirement already satisfied: cachetools<6.0,>=2.0.0 in /Users/dimova01/.pyenv/versions/3.11.9/lib/python3.11/site-packages (from google-auth!=2.24.0,!=2.25.0,<3.0.0,>=1.32.0->google-api-python-client>=2.157.0->google-adk) (5.3.3)\n",
      "Requirement already satisfied: pyasn1-modules>=0.2.1 in /Users/dimova01/.pyenv/versions/3.11.9/lib/python3.11/site-packages (from google-auth!=2.24.0,!=2.25.0,<3.0.0,>=1.32.0->google-api-python-client>=2.157.0->google-adk) (0.4.0)\n",
      "Requirement already satisfied: rsa<5,>=3.1.4 in /Users/dimova01/.pyenv/versions/3.11.9/lib/python3.11/site-packages (from google-auth!=2.24.0,!=2.25.0,<3.0.0,>=1.32.0->google-api-python-client>=2.157.0->google-adk) (4.9)\n",
      "Requirement already satisfied: python-dateutil<3.0.0,>=2.8.2 in /Users/dimova01/.pyenv/versions/3.11.9/lib/python3.11/site-packages (from google-cloud-bigquery!=3.20.0,<4.0.0,>=1.15.0->google-cloud-aiplatform>=1.87.0->google-adk) (2.9.0.post0)\n",
      "Requirement already satisfied: pyparsing!=3.0.0,!=3.0.1,!=3.0.2,!=3.0.3,<4,>=2.4.2 in /Users/dimova01/.pyenv/versions/3.11.9/lib/python3.11/site-packages (from httplib2<1.0.0,>=0.19.0->google-api-python-client>=2.157.0->google-adk) (3.1.2)\n",
      "Requirement already satisfied: certifi in /Users/dimova01/.pyenv/versions/3.11.9/lib/python3.11/site-packages (from httpx<1.0.0,>=0.28.1->google-genai>=1.9.0->google-adk) (2024.7.4)\n",
      "Requirement already satisfied: httpcore==1.* in /Users/dimova01/.pyenv/versions/3.11.9/lib/python3.11/site-packages (from httpx<1.0.0,>=0.28.1->google-genai>=1.9.0->google-adk) (1.0.5)\n",
      "Requirement already satisfied: zipp>=0.5 in /Users/dimova01/.pyenv/versions/3.11.9/lib/python3.11/site-packages (from importlib-metadata<8.7.0,>=6.0->opentelemetry-api>=1.31.0->google-adk) (3.20.0)\n",
      "Requirement already satisfied: charset-normalizer<4,>=2 in /Users/dimova01/.pyenv/versions/3.11.9/lib/python3.11/site-packages (from requests<3.0.0dev,>=2.18.0->google-cloud-storage<3.0.0,>=2.18.0->google-adk) (3.3.2)\n",
      "Requirement already satisfied: urllib3<3,>=1.21.1 in /Users/dimova01/.pyenv/versions/3.11.9/lib/python3.11/site-packages (from requests<3.0.0dev,>=2.18.0->google-cloud-storage<3.0.0,>=2.18.0->google-adk) (2.2.2)\n",
      "Requirement already satisfied: numpy<3,>=1.14 in /Users/dimova01/.pyenv/versions/3.11.9/lib/python3.11/site-packages (from shapely<3.0.0->google-cloud-aiplatform>=1.87.0->google-adk) (1.26.4)\n",
      "Requirement already satisfied: cffi>=1.12 in /Users/dimova01/.pyenv/versions/3.11.9/lib/python3.11/site-packages (from cryptography->authlib>=1.5.1->google-adk) (1.17.0)\n",
      "Requirement already satisfied: pycparser in /Users/dimova01/.pyenv/versions/3.11.9/lib/python3.11/site-packages (from cffi>=1.12->cryptography->authlib>=1.5.1->google-adk) (2.22)\n",
      "Requirement already satisfied: pyasn1<0.7.0,>=0.4.6 in /Users/dimova01/.pyenv/versions/3.11.9/lib/python3.11/site-packages (from pyasn1-modules>=0.2.1->google-auth!=2.24.0,!=2.25.0,<3.0.0,>=1.32.0->google-api-python-client>=2.157.0->google-adk) (0.6.0)\n",
      "Requirement already satisfied: six>=1.5 in /Users/dimova01/.pyenv/versions/3.11.9/lib/python3.11/site-packages (from python-dateutil<3.0.0,>=2.8.2->google-cloud-bigquery!=3.20.0,<4.0.0,>=1.15.0->google-cloud-aiplatform>=1.87.0->google-adk) (1.16.0)\n"
     ]
    }
   ],
   "source": [
    "# setup\n",
    "!pip install google-adk"
   ]
  },
  {
   "cell_type": "code",
   "execution_count": 18,
   "id": "ba1092b2-dbd8-4e75-bbed-319341b4e620",
   "metadata": {},
   "outputs": [
    {
     "name": "stdout",
     "output_type": "stream",
     "text": [
      "Attempting to connect to MCP Filesystem server...\n"
     ]
    },
    {
     "name": "stderr",
     "output_type": "stream",
     "text": [
      "/var/folders/sn/9v9qgzs135nd4hykbnyxkjb80000gn/T/ipykernel_3542/1264372003.py:13: RuntimeWarning: coroutine 'MCPToolset.from_server' was never awaited\n",
      "  tools, exit_stack = MCPToolset.from_server(\n",
      "RuntimeWarning: Enable tracemalloc to get the object allocation traceback\n"
     ]
    },
    {
     "ename": "TypeError",
     "evalue": "cannot unpack non-iterable coroutine object",
     "output_type": "error",
     "traceback": [
      "\u001b[0;31m---------------------------------------------------------------------------\u001b[0m",
      "\u001b[0;31mTypeError\u001b[0m                                 Traceback (most recent call last)",
      "Cell \u001b[0;32mIn[18], line 35\u001b[0m\n\u001b[1;32m     27\u001b[0m   root_agent \u001b[38;5;241m=\u001b[39m LlmAgent(\n\u001b[1;32m     28\u001b[0m       model\u001b[38;5;241m=\u001b[39m\u001b[38;5;124m'\u001b[39m\u001b[38;5;124mgemini-2.0-flash\u001b[39m\u001b[38;5;124m'\u001b[39m,\n\u001b[1;32m     29\u001b[0m       name\u001b[38;5;241m=\u001b[39m\u001b[38;5;124m'\u001b[39m\u001b[38;5;124mfilesystem_assistant\u001b[39m\u001b[38;5;124m'\u001b[39m,\n\u001b[1;32m     30\u001b[0m       instruction\u001b[38;5;241m=\u001b[39m\u001b[38;5;124m'\u001b[39m\u001b[38;5;124mHelp user interact with the local filesystem using available tools.\u001b[39m\u001b[38;5;124m'\u001b[39m,\n\u001b[1;32m     31\u001b[0m       tools\u001b[38;5;241m=\u001b[39mtools,\n\u001b[1;32m     32\u001b[0m   )\n\u001b[1;32m     33\u001b[0m   \u001b[38;5;28;01mreturn\u001b[39;00m root_agent, exit_stack\n\u001b[0;32m---> 35\u001b[0m root_agent \u001b[38;5;241m=\u001b[39m \u001b[43mget_agent\u001b[49m\u001b[43m(\u001b[49m\u001b[43m)\u001b[49m\n\u001b[1;32m     36\u001b[0m \u001b[38;5;66;03m# root_agent = LlmAgent(\u001b[39;00m\n\u001b[1;32m     37\u001b[0m \u001b[38;5;66;03m#     model=\"gemini-2.0-flash-exp\",\u001b[39;00m\n\u001b[1;32m     38\u001b[0m \u001b[38;5;66;03m#     name=\"question_answer_agent\",\u001b[39;00m\n\u001b[1;32m     39\u001b[0m \u001b[38;5;66;03m#     description=\"A helpful assistant agent that can answer questions.\",\u001b[39;00m\n\u001b[1;32m     40\u001b[0m \u001b[38;5;66;03m#     instruction=\"\"\"Respond to the query using google search\"\"\"\u001b[39;00m\n\u001b[1;32m     41\u001b[0m \u001b[38;5;66;03m# )\u001b[39;00m\n\u001b[1;32m     43\u001b[0m \u001b[38;5;28mprint\u001b[39m(root_agent)\n",
      "Cell \u001b[0;32mIn[18], line 25\u001b[0m, in \u001b[0;36mget_agent\u001b[0;34m()\u001b[0m\n\u001b[1;32m     23\u001b[0m \u001b[38;5;28;01mdef\u001b[39;00m \u001b[38;5;21mget_agent\u001b[39m():\n\u001b[1;32m     24\u001b[0m \u001b[38;5;250m  \u001b[39m\u001b[38;5;124;03m\"\"\"Creates an ADK Agent equipped with tools from the MCP Server.\"\"\"\u001b[39;00m\n\u001b[0;32m---> 25\u001b[0m   tools, exit_stack \u001b[38;5;241m=\u001b[39m \u001b[43mget_tools\u001b[49m\u001b[43m(\u001b[49m\u001b[43m)\u001b[49m\n\u001b[1;32m     26\u001b[0m   \u001b[38;5;28mprint\u001b[39m(\u001b[38;5;124mf\u001b[39m\u001b[38;5;124m\"\u001b[39m\u001b[38;5;124mFetched \u001b[39m\u001b[38;5;132;01m{\u001b[39;00m\u001b[38;5;28mlen\u001b[39m(tools)\u001b[38;5;132;01m}\u001b[39;00m\u001b[38;5;124m tools from MCP server.\u001b[39m\u001b[38;5;124m\"\u001b[39m)\n\u001b[1;32m     27\u001b[0m   root_agent \u001b[38;5;241m=\u001b[39m LlmAgent(\n\u001b[1;32m     28\u001b[0m       model\u001b[38;5;241m=\u001b[39m\u001b[38;5;124m'\u001b[39m\u001b[38;5;124mgemini-2.0-flash\u001b[39m\u001b[38;5;124m'\u001b[39m,\n\u001b[1;32m     29\u001b[0m       name\u001b[38;5;241m=\u001b[39m\u001b[38;5;124m'\u001b[39m\u001b[38;5;124mfilesystem_assistant\u001b[39m\u001b[38;5;124m'\u001b[39m,\n\u001b[1;32m     30\u001b[0m       instruction\u001b[38;5;241m=\u001b[39m\u001b[38;5;124m'\u001b[39m\u001b[38;5;124mHelp user interact with the local filesystem using available tools.\u001b[39m\u001b[38;5;124m'\u001b[39m,\n\u001b[1;32m     31\u001b[0m       tools\u001b[38;5;241m=\u001b[39mtools,\n\u001b[1;32m     32\u001b[0m   )\n",
      "Cell \u001b[0;32mIn[18], line 13\u001b[0m, in \u001b[0;36mget_tools\u001b[0;34m()\u001b[0m\n\u001b[1;32m     11\u001b[0m \u001b[38;5;250m\u001b[39m\u001b[38;5;124;03m\"\"\"Gets tools from the File System MCP Server.\"\"\"\u001b[39;00m\n\u001b[1;32m     12\u001b[0m \u001b[38;5;28mprint\u001b[39m(\u001b[38;5;124m\"\u001b[39m\u001b[38;5;124mAttempting to connect to MCP Filesystem server...\u001b[39m\u001b[38;5;124m\"\u001b[39m)\n\u001b[0;32m---> 13\u001b[0m tools, exit_stack \u001b[38;5;241m=\u001b[39m MCPToolset\u001b[38;5;241m.\u001b[39mfrom_server(\n\u001b[1;32m     14\u001b[0m     \u001b[38;5;66;03m# Use StdioServerParameters for local process communication\u001b[39;00m\n\u001b[1;32m     15\u001b[0m     connection_params\u001b[38;5;241m=\u001b[39mStdioServerParameters(\n\u001b[1;32m     16\u001b[0m         command\u001b[38;5;241m=\u001b[39mcmd,\n\u001b[1;32m     17\u001b[0m         args\u001b[38;5;241m=\u001b[39m[\u001b[38;5;124m\"\u001b[39m\u001b[38;5;124m-y\u001b[39m\u001b[38;5;124m\"\u001b[39m, \u001b[38;5;124m\"\u001b[39m\u001b[38;5;124m@modelcontextprotocol/server-filesystem\u001b[39m\u001b[38;5;124m\"\u001b[39m, dir_path],\n\u001b[1;32m     18\u001b[0m     )\n\u001b[1;32m     19\u001b[0m )\n\u001b[1;32m     20\u001b[0m \u001b[38;5;28mprint\u001b[39m(\u001b[38;5;124m\"\u001b[39m\u001b[38;5;124mMCP Toolset created successfully.\u001b[39m\u001b[38;5;124m\"\u001b[39m)\n\u001b[1;32m     21\u001b[0m \u001b[38;5;28;01mreturn\u001b[39;00m tools, exit_stack\n",
      "\u001b[0;31mTypeError\u001b[0m: cannot unpack non-iterable coroutine object"
     ]
    }
   ],
   "source": [
    "from pathlib import Path\n",
    "from google.adk.agents import LlmAgent\n",
    "from google.adk.tools.mcp_tool.mcp_toolset import MCPToolset, StdioServerParameters\n",
    "\n",
    "\n",
    "\n",
    "dir_path = f\"{Path.home()}/git/origin_simulator\"\n",
    "cmd = f\"{Path.home()}/.asdf/shims/npx\"\n",
    "\n",
    "def get_tools():\n",
    "  \"\"\"Gets tools from the File System MCP Server.\"\"\"\n",
    "  print(\"Attempting to connect to MCP Filesystem server...\")\n",
    "  tools, exit_stack = MCPToolset.from_server(\n",
    "      # Use StdioServerParameters for local process communication\n",
    "      connection_params=StdioServerParameters(\n",
    "          command=cmd,\n",
    "          args=[\"-y\", \"@modelcontextprotocol/server-filesystem\", dir_path],\n",
    "      )\n",
    "  )\n",
    "  print(\"MCP Toolset created successfully.\")\n",
    "  return tools, exit_stack\n",
    "\n",
    "def get_agent():\n",
    "  \"\"\"Creates an ADK Agent equipped with tools from the MCP Server.\"\"\"\n",
    "  tools, exit_stack = await get_tools()\n",
    "  print(f\"Fetched {len(tools)} tools from MCP server.\")\n",
    "  root_agent = LlmAgent(\n",
    "      model='gemini-2.0-flash',\n",
    "      name='filesystem_assistant',\n",
    "      instruction='Help user interact with the local filesystem using available tools.',\n",
    "      tools=tools,\n",
    "  )\n",
    "  return root_agent, exit_stack\n",
    "\n",
    "# root_agent = get_agent()\n",
    "# root_agent = LlmAgent(\n",
    "#     model=\"gemini-2.0-flash-exp\",\n",
    "#     name=\"question_answer_agent\",\n",
    "#     description=\"A helpful assistant agent that can answer questions.\",\n",
    "#     instruction=\"\"\"Respond to the query using google search\"\"\"\n",
    "# )\n",
    "\n",
    "print(root_agent)"
   ]
  },
  {
   "cell_type": "code",
   "execution_count": null,
   "id": "58f05191-8575-4e8f-9999-b921556547da",
   "metadata": {},
   "outputs": [],
   "source": []
  }
 ],
 "metadata": {
  "kernelspec": {
   "display_name": "Python 3 (ipykernel)",
   "language": "python",
   "name": "python3"
  },
  "language_info": {
   "codemirror_mode": {
    "name": "ipython",
    "version": 3
   },
   "file_extension": ".py",
   "mimetype": "text/x-python",
   "name": "python",
   "nbconvert_exporter": "python",
   "pygments_lexer": "ipython3",
   "version": "3.11.9"
  }
 },
 "nbformat": 4,
 "nbformat_minor": 5
}
